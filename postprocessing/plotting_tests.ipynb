{
 "cells": [
  {
   "cell_type": "code",
   "execution_count": null,
   "metadata": {},
   "outputs": [],
   "source": [
    "# import os\n",
    "\n",
    "# # folder_name = \"/media/ssudhakar/DATA_10TB/data_solver/\"\n",
    "# # for i in range(1, 7):\n",
    "# #     for j in range(2, 4):\n",
    "# #         for k in range(2, 4):\n",
    "# #             os.makedirs(f\"{folder_name}/case1_{i}{j}{k}\", exist_ok=True)"
   ]
  },
  {
   "cell_type": "code",
   "execution_count": null,
   "metadata": {},
   "outputs": [],
   "source": [
    "import numpy as np\n",
    "import matplotlib.pyplot as plt\n",
    "import pandas as pd\n",
    "from tqdm import tqdm\n",
    "\n",
    "run_num = 131\n",
    "grid_size = 1025\n",
    "colnames_df =  [\"time\"] + [f\"col{col_num:04d}\" for col_num in range(1, grid_size+2)]\n",
    "\n",
    "data_folder = f\"/media/ssudhakar/DATA_10TB/data_solver/gaussian_ignition_1024/\" #/case1_{run_num}/\"\n",
    "imgs_folder = f\"/media/ssudhakar/DATA_10TB/data_solver/plots_case1/\"\n",
    "\n",
    "df_output_sol_u = pd.read_csv(f\"{data_folder}output_sol_u_{run_num}.csv\", header=None, names=colnames_df)\n",
    "df_output_sol_dens = pd.read_csv(f\"{data_folder}output_sol_dens_{run_num}.csv\", header=None, names=colnames_df)\n",
    "df_output_sol_temp = pd.read_csv(f\"{data_folder}output_sol_temp_{run_num}.csv\", header=None, names=colnames_df)\n",
    "df_output_sol_pres = pd.read_csv(f\"{data_folder}output_sol_pres_{run_num}.csv\", header=None, names=colnames_df)\n",
    "df_output_sol_h2 = pd.read_csv(f\"{data_folder}output_sol_h2_{run_num}.csv\", header=None, names=colnames_df)\n",
    "df_output_sol_oh = pd.read_csv(f\"{data_folder}output_sol_oh_{run_num}.csv\", header=None, names=colnames_df)\n",
    "\n",
    "u_vel = df_output_sol_u.iloc[:, 1:(grid_size+1)].values\n",
    "dens = df_output_sol_dens.iloc[:, 1:(grid_size+1)].values\n",
    "temp = df_output_sol_temp.iloc[:, 1:(grid_size+1)].values\n",
    "pres = df_output_sol_pres.iloc[:, 1:(grid_size+1)].values\n",
    "h2vals = df_output_sol_h2.iloc[:, 1:(grid_size+1)].values\n",
    "ohvals = df_output_sol_oh.iloc[:, 1:(grid_size+1)].values\n"
   ]
  },
  {
   "cell_type": "code",
   "execution_count": null,
   "metadata": {},
   "outputs": [],
   "source": [
    "# Assuming x, u_vel, dens, temp, pres, grid_size are defined\n",
    "x = np.linspace(0, 1, grid_size, endpoint=False)  # Adjusted to use grid_size\n",
    "\n",
    "# Create figure and subplot axes (4 rows, 1 column)\n",
    "fig, axes = plt.subplots(nrows=4, ncols=1, figsize=(15, 20), sharex=True)\n",
    "\n",
    "# Data and labels for each subplot\n",
    "data_vars = [u_vel, dens, temp, pres]\n",
    "titles = ['u velocity (time evolution)', 'Density (time evolution)', 'Temperature (time evolution)', 'Pressure (time evolution)']\n",
    "y_labels = ['u velocity', 'Density', 'Temperature', 'Pressure']\n",
    "\n",
    "# Plot each variable in its respective subplot\n",
    "for ax, data, title, ylabel in zip(axes, data_vars, titles, y_labels):\n",
    "    for i in range(0, 700, 10):\n",
    "        ax.plot(x, data[i, :], alpha=0.7, ) #label=f\"{i * 1000 * 5e-9:.2e}\")\n",
    "    ax.set_ylabel(ylabel)\n",
    "    ax.set_title(title)\n",
    "    ax.grid(True)\n",
    "    # ax.legend(loc='upper left')\n",
    "\n",
    "# Set common x-label for the bottom subplot\n",
    "axes[-1].set_xlabel('Domain')\n",
    "\n",
    "# Adjust layout to prevent overlap\n",
    "plt.tight_layout()\n",
    "plt.show()"
   ]
  },
  {
   "cell_type": "code",
   "execution_count": null,
   "metadata": {},
   "outputs": [],
   "source": [
    "temp_time = temp[:, 32]\n",
    "h2vals_time = h2vals[:, 32]\n",
    "ohvals_time = ohvals[:, 32]\n",
    "\n",
    "dt = 0.00000002 * 1000 #5e-9 * 1000\n",
    "time_vals = np.arange(0, dt*500, dt)"
   ]
  },
  {
   "cell_type": "code",
   "execution_count": null,
   "metadata": {},
   "outputs": [],
   "source": [
    "fig, ax = plt.subplots(figsize=(10,8))\n",
    "\n",
    "ax.plot(time_vals, temp_time) \n",
    "# ax.plot(time_vals, h2vals_time) \n",
    "# ax.plot(time_vals, ohvals_time) \n",
    "\n",
    "plt.show()"
   ]
  },
  {
   "cell_type": "code",
   "execution_count": null,
   "metadata": {},
   "outputs": [],
   "source": []
  },
  {
   "cell_type": "code",
   "execution_count": null,
   "metadata": {},
   "outputs": [],
   "source": []
  }
 ],
 "metadata": {
  "kernelspec": {
   "display_name": "trnslrn1",
   "language": "python",
   "name": "python3"
  },
  "language_info": {
   "codemirror_mode": {
    "name": "ipython",
    "version": 3
   },
   "file_extension": ".py",
   "mimetype": "text/x-python",
   "name": "python",
   "nbconvert_exporter": "python",
   "pygments_lexer": "ipython3",
   "version": "3.10.12"
  }
 },
 "nbformat": 4,
 "nbformat_minor": 2
}
