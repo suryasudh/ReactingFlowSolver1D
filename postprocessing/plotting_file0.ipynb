{
 "cells": [
  {
   "cell_type": "code",
   "execution_count": null,
   "metadata": {},
   "outputs": [],
   "source": [
    "import numpy as np\n",
    "import matplotlib.pyplot as plt\n",
    "import pandas as pd\n",
    "import json\n",
    "\n",
    "with open(\"../code/configuration.json\", \"r\") as file:\n",
    "    config1 = json.load(file, )\n",
    "\n",
    "for key, value in zip(config1.keys(), config1.values()):\n",
    "    print(f\"{key:<30s}\", f\"{value:>}\")\n",
    "\n",
    "colnames = [\"time\"] + [f\"col{col_num:04d}\" for col_num in range(1, config1[\"Nx\"]+2)]\n",
    "df_output_sol_u = pd.read_csv(f\"output_sol_u_{config1['run_num']}.csv\", header=None, names=colnames)\n",
    "df_output_sol_dens = pd.read_csv(f\"output_sol_dens_{config1['run_num']}.csv\", header=None, names=colnames)\n",
    "df_output_sol_temp = pd.read_csv(f\"output_sol_temp_{config1['run_num']}.csv\", header=None, names=colnames)\n",
    "df_output_sol_pres = pd.read_csv(f\"output_sol_pres_{config1['run_num']}.csv\", header=None, names=colnames)\n",
    "\n",
    "u_vel = df_output_sol_u.iloc[:, 1:(config1[\"Nx\"]+1)].values\n",
    "dens = df_output_sol_dens.iloc[:, 1:(config1[\"Nx\"]+1)].values\n",
    "temp = df_output_sol_temp.iloc[:, 1:(config1[\"Nx\"]+1)].values\n",
    "pres = df_output_sol_pres.iloc[:, 1:(config1[\"Nx\"]+1)].values"
   ]
  },
  {
   "cell_type": "code",
   "execution_count": null,
   "metadata": {},
   "outputs": [],
   "source": [
    "# Assuming x, u_vel, dens, temp, pres, and config1[\"Nx\"] are defined as per your previous snippets\n",
    "x = np.linspace(0, 1, config1[\"Nx\"], endpoint=False)  # Adjusted to use config1[\"Nx\"] for generality\n",
    "\n",
    "# Create figure and subplot axes (4 rows, 1 column)\n",
    "fig, axes = plt.subplots(nrows=4, ncols=1, figsize=(15, 20), sharex=True)\n",
    "\n",
    "# Data and labels for each subplot\n",
    "data_vars = [u_vel, dens, temp, pres]\n",
    "titles = ['u velocity (time evolution)', 'Density (time evolution)', 'Temperature (time evolution)', 'Pressure (time evolution)']\n",
    "y_labels = ['u velocity', 'Density', 'Temperature', 'Pressure']\n",
    "\n",
    "# Plot each variable in its respective subplot\n",
    "for ax, data, title, ylabel in zip(axes, data_vars, titles, y_labels):\n",
    "    for i in range(0, 200, 10):\n",
    "        ax.plot(x, data[i, :], alpha=0.7, label=f\"{i * 5e-9:.2e}\")\n",
    "    ax.set_ylabel(ylabel)\n",
    "    ax.set_title(title)\n",
    "    ax.grid(True)\n",
    "    ax.legend()\n",
    "\n",
    "# Set common x-label for the bottom subplot\n",
    "axes[-1].set_xlabel('Domain')\n",
    "\n",
    "# Adjust layout to prevent overlap\n",
    "plt.tight_layout()\n",
    "plt.show()"
   ]
  }
 ],
 "metadata": {
  "kernelspec": {
   "display_name": "trnslrn1",
   "language": "python",
   "name": "python3"
  },
  "language_info": {
   "codemirror_mode": {
    "name": "ipython",
    "version": 3
   },
   "file_extension": ".py",
   "mimetype": "text/x-python",
   "name": "python",
   "nbconvert_exporter": "python",
   "pygments_lexer": "ipython3",
   "version": "3.10.12"
  }
 },
 "nbformat": 4,
 "nbformat_minor": 2
}
